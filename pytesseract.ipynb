{
 "cells": [
  {
   "cell_type": "code",
   "execution_count": 1,
   "id": "0a666ac7-2e31-4300-9afe-745f673b227c",
   "metadata": {},
   "outputs": [],
   "source": [
    "import pytesseract"
   ]
  },
  {
   "cell_type": "code",
   "execution_count": 2,
   "id": "9bb28e81-e17c-4371-9af1-11d8941d0b82",
   "metadata": {},
   "outputs": [],
   "source": [
    "pytesseract.pytesseract.tesseract_cmd=r\"C:\\Program Files\\Tesseract-OCR\\tesseract\""
   ]
  },
  {
   "cell_type": "code",
   "execution_count": null,
   "id": "710f32ad-2109-41fb-97d4-33532587f60c",
   "metadata": {},
   "outputs": [],
   "source": [
    "img=cv.imread(r\"your image path\")"
   ]
  },
  {
   "cell_type": "code",
   "execution_count": null,
   "id": "1c3d82f6-69bc-4a0c-ba92-be334e4cef43",
   "metadata": {},
   "outputs": [],
   "source": [
    "cv.imshow(\"window\",img)\n",
    "cv.waitKey(0)\n",
    "cv.destroyAllWindows()"
   ]
  },
  {
   "cell_type": "code",
   "execution_count": null,
   "id": "8a98243e-02be-4aba-94e6-65b53c960795",
   "metadata": {},
   "outputs": [],
   "source": [
    "text=pytesseract.image_to_string(img)\n",
    "print(text)"
   ]
  },
  {
   "cell_type": "code",
   "execution_count": null,
   "id": "b3ecc082-f82a-4caa-8521-d6c8874b2043",
   "metadata": {},
   "outputs": [],
   "source": []
  }
 ],
 "metadata": {
  "kernelspec": {
   "display_name": "Python 3 (ipykernel)",
   "language": "python",
   "name": "python3"
  },
  "language_info": {
   "codemirror_mode": {
    "name": "ipython",
    "version": 3
   },
   "file_extension": ".py",
   "mimetype": "text/x-python",
   "name": "python",
   "nbconvert_exporter": "python",
   "pygments_lexer": "ipython3",
   "version": "3.11.7"
  }
 },
 "nbformat": 4,
 "nbformat_minor": 5
}
